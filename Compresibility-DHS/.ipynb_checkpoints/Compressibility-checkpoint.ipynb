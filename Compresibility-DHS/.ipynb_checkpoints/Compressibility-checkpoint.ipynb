{
 "cells": [
  {
   "cell_type": "code",
   "execution_count": 1,
   "metadata": {},
   "outputs": [],
   "source": [
    "import pandas as pd\n",
    "import pandas as pd\n",
    "import numpy as np\n",
    "import matplotlib.pyplot as plt\n",
    "import seaborn as sns\n",
    "import pylab\n",
    "import math\n",
    "from scipy import stats\n",
    "from sklearn import preprocessing\n",
    "import statsmodels.api as sm\n",
    "from statsmodels.stats import diagnostic as diag\n",
    "from statsmodels.stats.outliers_influence import variance_inflation_factor\n",
    "from sklearn.metrics import mean_squared_error, r2_score, mean_absolute_error\n",
    "from sklearn import metrics\n",
    "from matplotlib import pyplot\n",
    "import matplotlib.pyplot as plt\n",
    "from scipy.optimize import curve_fit \n",
    "import pandas as pd\n",
    "import matplotlib as mpl\n"
   ]
  },
  {
   "cell_type": "code",
   "execution_count": 2,
   "metadata": {},
   "outputs": [],
   "source": [
    "# fuctions for compressibility of DHS\n",
    "pi=3.14159265359\n",
    "def log(x):\n",
    "       \n",
    "       return math.log (x, 2.718281828459)\n",
    "\n",
    "def etazero(a):\n",
    "       a = float(a)\n",
    "       return (0.1763578244/(a))\n",
    "\n",
    "def ksi(x):\n",
    "       return ((math.pi/6.0)*x)\n",
    "\n",
    "def gCS(x):\n",
    "       return ((1.0-0.5*ksi(x))/(1.0-ksi(x))**3.0)\n",
    "\n",
    "def Zhs(x):\n",
    "       return ((1.0+ksi(x)+ksi(x)**2.0-ksi(x)**3.0)/(1.0-ksi(x))**3.0)\n",
    " \n",
    "\n",
    "def Lambda(m,S):\n",
    "       return (m**2.0/(S**3.0))\n",
    "\n",
    "def etaEns(x):\n",
    "       Vexcl=((2.0/3.0)*math.pi)\n",
    "       return (0.1763578244*(1.016/gCS(x)+0.8*Vexcl*x\n",
    "              +0.7760*Vexcl*Vexcl*x*x*gCS(x)))"
   ]
  },
  {
   "cell_type": "code",
   "execution_count": 3,
   "metadata": {},
   "outputs": [],
   "source": [
    "def I1(m,S):\n",
    "       return ((4.0/3.0)*Lambda(m,S)**2.0+(4.0/75.0)*Lambda(m,S)**4.0\n",
    "               +(116.0/55125.0)*Lambda(m,S)**6.0)\n",
    "\n",
    "def I2(m,S):\n",
    "       return ((4.0*log(2.0)+2.0/3.0)*Lambda(m,S)**2.0-(20.0/9.0)*Lambda(m,S)**3.0+\n",
    "               ((661727.0/9600.0)-(1468.0/15.0)*log(2.0))*Lambda(m,S)**4.0\n",
    "               -0.1547*Lambda(m,S)**5.0+0.1116*Lambda(m,S)**6.0-0.0143*Lambda(m,S)**7.0+\n",
    "                0.0105*Lambda(m,S)**8.0-0.0015*Lambda(m,S)**9.0+0.0007*Lambda(m,S)**10.0\n",
    "               -0.000130*Lambda(m,S)**11.0+0.00004*Lambda(m,S)**12.0)\n",
    "       \n",
    "def I3(m,S):\n",
    "       return (2.901720*Lambda(m,S)**2.0-7.0500*Lambda(m,S)**3.0+1.04490*Lambda(m,S)**4.0\n",
    "               +9.48830*Lambda(m,S)**5.0-4.35900*Lambda(m,S)**6.0)\n",
    "\n",
    "def I4(m,S):\n",
    "       return (-49.14760*Lambda(m,S)**2.0+64.76730*Lambda(m,S)**3.0+11.07280*Lambda(m,S)**4.0-27.15310*Lambda(m,S)**5.0-\n",
    "               3.9332*Lambda(m,S)**6.0+9.1977*Lambda(m,S)**7.0-1.2892*Lambda(m,S)**8.0)"
   ]
  },
  {
   "cell_type": "code",
   "execution_count": 4,
   "metadata": {},
   "outputs": [],
   "source": [
    "def f(x,S,m):\n",
    "       x = float(x)\n",
    "       return (-log((1.0+I1(m,S)*ksi(x)+(1.0/2.0)*I2(m,S)*ksi(x)**2.0\n",
    "               +(1.0/3.0)*I3(m,S)*ksi(x)**3.0+(1.0/4.0)*I4(m,S)*ksi(x)**4.00)))\n",
    "\n",
    "def Zex(x,S,m):\n",
    "       return (x*((f(x+0.00001,S,m)-f(x,S,m))/0.00001))\n",
    "\n",
    "def Z(x,S,m):\n",
    "       return  (Zex(x,S,m)+Zhs(x))\n",
    "\n",
    "def U(x,S,m):\n",
    "       return  ((1.0/2.0)*m*((f(x,S,m+0.0001)-f(x,S,m))/0.0001))\n",
    "\n",
    "def g(x,S,m):\n",
    "       return  (1.0/(4.0*ksi(x)))*(Z(x,S,m)-1.0-U(x,S,m))\n",
    "\n",
    "def eta(x,S,m,a):\n",
    "       Vexcl=((2.0/3.0)*math.pi)\n",
    "       return  (etazero(a)*Vexcl*x*((1.016/(Z(x,S,m)-1.0-U(x,S,m)))+0.8+0.776*(Z(x,S,m)-1.0-U(x,S,m))))"
   ]
  },
  {
   "cell_type": "code",
   "execution_count": 5,
   "metadata": {},
   "outputs": [],
   "source": [
    "f = np.vectorize(f) \n",
    "Zex = np.vectorize(Zex) \n",
    "Z = np.vectorize(Z) \n",
    "eta = np.vectorize(eta) \n",
    "g = np.vectorize(g) \n",
    "U = np.vectorize(U) "
   ]
  },
  {
   "cell_type": "code",
   "execution_count": 6,
   "metadata": {},
   "outputs": [
    {
     "data": {
      "text/plain": [
       "<ErrorbarContainer object of 3 artists>"
      ]
     },
     "execution_count": 6,
     "metadata": {},
     "output_type": "execute_result"
    },
    {
     "data": {
      "image/png": "[encoded data removed]",
      "text/plain": [
       "<Figure size 432x288 with 1 Axes>"
      ]
     },
     "metadata": {
      "needs_background": "light"
     },
     "output_type": "display_data"
    }
   ],
   "source": [
    "plt.xticks(np.arange(0.,0.45, 0.1))\n",
    "plt.xlim((0.,0.45))\n",
    "plt.ylim((-0.45,3))\n",
    "data1 = pd.read_table('./1.txt', skiprows=0, sep='\\s+')\n",
    "plt.errorbar( (data1.rho)*pi/6.0, (data1.P1)*pi/6.0,yerr=(data1.err_P1),fmt='v',label=\"MD current work\",markersize=12)"
   ]
  },
  {
   "cell_type": "code",
   "execution_count": 10,
   "metadata": {},
   "outputs": [
    {
     "data": {
      "image/png": "[encoded data removed]",
      "text/plain": [
       "<Figure size 432x288 with 1 Axes>"
      ]
     },
     "metadata": {
      "needs_background": "light"
     },
     "output_type": "display_data"
    }
   ],
   "source": [
    "#fitting of compressibility functions to the data\n",
    "x = np.arange(0.001, 0.5, 0.001)\n",
    "plt.plot(  x,  Z(x*6./math.pi,1.0,1.0**0.5)*(x),'r-',linewidth=5,label='Theory Ref. [14]')\n",
    "\n",
    "\n",
    "plt.xlabel('\\u03BE' '$^*$', fontsize=16)\n",
    "plt.ylabel('PV/N''$\\mathrm{k_B}$' 'T', fontsize=16)\n",
    "plt.legend( fontsize=12,borderpad=0.5,facecolor ='lightgrey')\n",
    "plt.figtext(.8, .2, \"\\u03BB = 1\", fontsize=12)\n",
    "\n",
    "mpl.rcParams['axes.linewidth']=3\n",
    "plt.errorbar( (data1.rho)*pi/6.0, (data1.P1)*pi/6.0,yerr=(data1.err_P1),fmt='v',label=\"MD current work\",markersize=12)\n",
    "plt.savefig('Z1_python.png')\n",
    "plt.show()\n"
   ]
  },
  {
   "cell_type": "code",
   "execution_count": 8,
   "metadata": {},
   "outputs": [
    {
     "data": {
      "text/plain": [
       "<ErrorbarContainer object of 3 artists>"
      ]
     },
     "execution_count": 8,
     "metadata": {},
     "output_type": "execute_result"
    },
    {
     "data": {
      "image/png": "[encoded data removed]",
      "text/plain": [
       "<Figure size 432x288 with 1 Axes>"
      ]
     },
     "metadata": {
      "needs_background": "light"
     },
     "output_type": "display_data"
    }
   ],
   "source": [
    "plt.xticks(np.arange(0.0,0.75, 0.1))\n",
    "plt.xlim((0.,0.55))\n",
    "plt.ylim((-0.45,5))\n",
    "data3 = pd.read_table('./3.txt', skiprows=0, sep='\\s+')\n",
    "plt.errorbar( (data3.rho)*pi/6.0, (data3.P1)*pi/6.0,yerr=(data3.err_P1),fmt='v',label=\"MD current work\",markersize=12)"
   ]
  },
  {
   "cell_type": "code",
   "execution_count": 11,
   "metadata": {},
   "outputs": [
    {
     "data": {
      "image/png": "[encoded data removed]",
      "text/plain": [
       "<Figure size 432x288 with 1 Axes>"
      ]
     },
     "metadata": {
      "needs_background": "light"
     },
     "output_type": "display_data"
    }
   ],
   "source": [
    "#fitting of compressibility functions to the data\n",
    "x = np.arange(0.001, 0.5, 0.001)\n",
    "plt.plot(  x,  Z(x*6./math.pi,1.0,3.0**0.5)*(x),'r-',linewidth=5,label='Theory Ref. [14]')\n",
    "\n",
    "\n",
    "plt.xlabel('\\u03BE' '$^*$', fontsize=16)\n",
    "plt.ylabel('PV/N''$\\mathrm{k_B}$' 'T', fontsize=16)\n",
    "plt.legend( fontsize=12,borderpad=0.5,facecolor ='lightgrey')\n",
    "plt.figtext(.8, .2, \"\\u03BB = 3\", fontsize=12)\n",
    "\n",
    "mpl.rcParams['axes.linewidth']=3\n",
    "plt.errorbar( (data3.rho)*pi/6.0, (data3.P1)*pi/6.0,yerr=(data3.err_P1),fmt='v',label=\"MD current work\",markersize=12)\n",
    "plt.savefig('Z3_python.png')\n",
    "plt.show()"
   ]
  },
  {
   "cell_type": "code",
   "execution_count": null,
   "metadata": {},
   "outputs": [],
   "source": []
  },
  {
   "cell_type": "code",
   "execution_count": null,
   "metadata": {},
   "outputs": [],
   "source": []
  },
  {
   "cell_type": "code",
   "execution_count": null,
   "metadata": {},
   "outputs": [],
   "source": []
  }
 ],
 "metadata": {
  "kernelspec": {
   "display_name": "Python 3",
   "language": "python",
   "name": "python3"
  },
  "language_info": {
   "codemirror_mode": {
    "name": "ipython",
    "version": 3
   },
   "file_extension": ".py",
   "mimetype": "text/x-python",
   "name": "python",
   "nbconvert_exporter": "python",
   "pygments_lexer": "ipython3",
   "version": "3.8.5"
  }
 },
 "nbformat": 4,
 "nbformat_minor": 4
}
