{
 "cells": [
  {
   "cell_type": "code",
   "execution_count": 1,
   "metadata": {},
   "outputs": [],
   "source": [
    "import pandas as pd\n",
    "import pandas as pd\n",
    "import numpy as np\n",
    "import matplotlib.pyplot as plt\n",
    "import seaborn as sns\n",
    "import pylab\n",
    "import math\n",
    "from scipy import stats\n",
    "from sklearn import preprocessing\n",
    "import statsmodels.api as sm\n",
    "from statsmodels.stats import diagnostic as diag\n",
    "from statsmodels.stats.outliers_influence import variance_inflation_factor\n",
    "from sklearn.metrics import mean_squared_error, r2_score, mean_absolute_error\n",
    "from sklearn import metrics\n",
    "from matplotlib import pyplot\n",
    "import matplotlib.pyplot as plt\n",
    "from scipy.optimize import curve_fit \n",
    "import pandas as pd\n",
    "import matplotlib as mpl\n",
    "%matplotlib inline\n",
    "import warnings\n",
    "warnings.filterwarnings('ignore')"
   ]
  },
  {
   "cell_type": "code",
   "execution_count": 2,
   "metadata": {},
   "outputs": [],
   "source": [
    "# fuctions for compressibility of DHS\n",
    "pi=3.14159265359\n",
    "def log(x):\n",
    "       \n",
    "       return math.log (x, 2.718281828459)\n",
    "\n",
    "def etazero(a):\n",
    "       a = float(a)\n",
    "       return (0.1763578244/(a))\n",
    "\n",
    "def ksi(x):\n",
    "       return ((math.pi/6.0)*x)\n",
    "\n",
    "def gCS(x):\n",
    "       return ((1.0-0.5*ksi(x))/(1.0-ksi(x))**3.0)\n",
    "\n",
    "def Zhs(x):\n",
    "       return ((1.0+ksi(x)+ksi(x)**2.0-ksi(x)**3.0)/(1.0-ksi(x))**3.0)\n",
    " \n",
    "\n",
    "def Lambda(m,S):\n",
    "       return (m**2.0/(S**3.0))\n",
    "\n",
    "def etaEns(x):\n",
    "       Vexcl=((2.0/3.0)*math.pi)\n",
    "       return (0.1763578244*(1.016/gCS(x)+0.8*Vexcl*x\n",
    "              +0.7760*Vexcl*Vexcl*x*x*gCS(x)))"
   ]
  },
  {
   "cell_type": "code",
   "execution_count": 3,
   "metadata": {},
   "outputs": [],
   "source": [
    "def I1(m,S):\n",
    "       return ((4.0/3.0)*Lambda(m,S)**2.0+(4.0/75.0)*Lambda(m,S)**4.0\n",
    "               +(116.0/55125.0)*Lambda(m,S)**6.0)\n",
    "\n",
    "def I2(m,S):\n",
    "       return ((4.0*log(2.0)+2.0/3.0)*Lambda(m,S)**2.0-(20.0/9.0)*Lambda(m,S)**3.0+\n",
    "               ((661727.0/9600.0)-(1468.0/15.0)*log(2.0))*Lambda(m,S)**4.0\n",
    "               -0.1547*Lambda(m,S)**5.0+0.1116*Lambda(m,S)**6.0-0.0143*Lambda(m,S)**7.0+\n",
    "                0.0105*Lambda(m,S)**8.0-0.0015*Lambda(m,S)**9.0+0.0007*Lambda(m,S)**10.0\n",
    "               -0.000130*Lambda(m,S)**11.0+0.00004*Lambda(m,S)**12.0)\n",
    "       \n",
    "def I3(m,S):\n",
    "       return (2.901720*Lambda(m,S)**2.0-7.0500*Lambda(m,S)**3.0+1.04490*Lambda(m,S)**4.0\n",
    "               +9.48830*Lambda(m,S)**5.0-4.35900*Lambda(m,S)**6.0)\n",
    "\n",
    "def I4(m,S):\n",
    "       return (-49.14760*Lambda(m,S)**2.0+64.76730*Lambda(m,S)**3.0+11.07280*Lambda(m,S)**4.0-27.15310*Lambda(m,S)**5.0-\n",
    "               3.9332*Lambda(m,S)**6.0+9.1977*Lambda(m,S)**7.0-1.2892*Lambda(m,S)**8.0)"
   ]
  },
  {
   "cell_type": "code",
   "execution_count": 4,
   "metadata": {},
   "outputs": [],
   "source": [
    "def f(x,S,m):\n",
    "       x = float(x)\n",
    "       return (-log((1.0+I1(m,S)*ksi(x)+(1.0/2.0)*I2(m,S)*ksi(x)**2.0\n",
    "               +(1.0/3.0)*I3(m,S)*ksi(x)**3.0+(1.0/4.0)*I4(m,S)*ksi(x)**4.00)))\n",
    "\n",
    "def Zex(x,S,m):\n",
    "       return (x*((f(x+0.00001,S,m)-f(x,S,m))/0.00001))\n",
    "\n",
    "def Z(x,S,m):\n",
    "       return  (Zex(x,S,m)+Zhs(x))\n",
    "\n",
    "def U(x,S,m):\n",
    "       return  ((1.0/2.0)*m*((f(x,S,m+0.0001)-f(x,S,m))/0.0001))\n",
    "\n",
    "def g(x,S,m):\n",
    "       return  (1.0/(4.0*ksi(x)))*(Z(x,S,m)-1.0-U(x,S,m))\n",
    "\n",
    "def eta(x,S,m,a):\n",
    "       Vexcl=((2.0/3.0)*math.pi)\n",
    "       return  (etazero(a)*Vexcl*x*((1.016/(Z(x,S,m)-1.0-U(x,S,m)))+0.8+0.776*(Z(x,S,m)-1.0-U(x,S,m))))"
   ]
  },
  {
   "cell_type": "code",
   "execution_count": 5,
   "metadata": {},
   "outputs": [],
   "source": [
    "def rescalefunction(x):\n",
    "       return etaEns(x*6./pi)"
   ]
  },
  {
   "cell_type": "code",
   "execution_count": 6,
   "metadata": {},
   "outputs": [],
   "source": [
    "#np.vectorize takes a python function (pyfunc) and returns a vectorized version of the function.\n",
    "#The vectorized version of the function takes a sequence of objects or NumPy arrays as input and evaluates \n",
    "#the Python function over each element of the input sequence.\n",
    "f = np.vectorize(f) \n",
    "Zex = np.vectorize(Zex) \n",
    "Z = np.vectorize(Z) \n",
    "eta = np.vectorize(eta) \n",
    "g = np.vectorize(g) \n",
    "U = np.vectorize(U) "
   ]
  },
  {
   "cell_type": "code",
   "execution_count": null,
   "metadata": {},
   "outputs": [],
   "source": []
  },
  {
   "cell_type": "code",
   "execution_count": 7,
   "metadata": {},
   "outputs": [],
   "source": [
    "import pandas as pd\n",
    "import glob\n",
    "\n",
    "path = r'./' # use your path\n",
    "all_files = glob.glob(path + \"/*.txt\")\n",
    "\n",
    "data = []\n",
    "\n",
    "for filename in all_files:\n",
    "    df = pd.read_table(filename,  skiprows=0, sep='\\s+')\n",
    "    data.append(df)\n"
   ]
  },
  {
   "cell_type": "code",
   "execution_count": 8,
   "metadata": {},
   "outputs": [
    {
     "data": {
      "text/html": [
       "<div>\n",
       "<style scoped>\n",
       "    .dataframe tbody tr th:only-of-type {\n",
       "        vertical-align: middle;\n",
       "    }\n",
       "\n",
       "    .dataframe tbody tr th {\n",
       "        vertical-align: top;\n",
       "    }\n",
       "\n",
       "    .dataframe thead th {\n",
       "        text-align: right;\n",
       "    }\n",
       "</style>\n",
       "<table border=\"1\" class=\"dataframe\">\n",
       "  <thead>\n",
       "    <tr style=\"text-align: right;\">\n",
       "      <th></th>\n",
       "      <th>#V</th>\n",
       "      <th>P</th>\n",
       "      <th>P1</th>\n",
       "      <th>err_P1</th>\n",
       "      <th>rho</th>\n",
       "      <th>err_rho</th>\n",
       "      <th>rdf</th>\n",
       "      <th>rdf_x</th>\n",
       "      <th>eta</th>\n",
       "      <th>err_eta</th>\n",
       "    </tr>\n",
       "  </thead>\n",
       "  <tbody>\n",
       "    <tr>\n",
       "      <th>0</th>\n",
       "      <td>V0</td>\n",
       "      <td>6310.560</td>\n",
       "      <td>10.079400</td>\n",
       "      <td>0.025833</td>\n",
       "      <td>0.924336</td>\n",
       "      <td>0.001994</td>\n",
       "      <td>4.777</td>\n",
       "      <td>0.346</td>\n",
       "      <td>5.119960</td>\n",
       "      <td>0.016443</td>\n",
       "    </tr>\n",
       "    <tr>\n",
       "      <th>1</th>\n",
       "      <td>V1</td>\n",
       "      <td>2480.960</td>\n",
       "      <td>3.962640</td>\n",
       "      <td>0.023366</td>\n",
       "      <td>0.722243</td>\n",
       "      <td>0.003461</td>\n",
       "      <td>3.201</td>\n",
       "      <td>0.348</td>\n",
       "      <td>1.342720</td>\n",
       "      <td>0.012093</td>\n",
       "    </tr>\n",
       "    <tr>\n",
       "      <th>2</th>\n",
       "      <td>V2</td>\n",
       "      <td>1279.340</td>\n",
       "      <td>2.043390</td>\n",
       "      <td>0.014310</td>\n",
       "      <td>0.575019</td>\n",
       "      <td>0.002002</td>\n",
       "      <td>2.513</td>\n",
       "      <td>0.348</td>\n",
       "      <td>0.713179</td>\n",
       "      <td>0.007296</td>\n",
       "    </tr>\n",
       "    <tr>\n",
       "      <th>3</th>\n",
       "      <td>V3</td>\n",
       "      <td>763.111</td>\n",
       "      <td>1.218860</td>\n",
       "      <td>0.008889</td>\n",
       "      <td>0.465239</td>\n",
       "      <td>0.002382</td>\n",
       "      <td>2.150</td>\n",
       "      <td>0.348</td>\n",
       "      <td>0.458845</td>\n",
       "      <td>0.006023</td>\n",
       "    </tr>\n",
       "    <tr>\n",
       "      <th>4</th>\n",
       "      <td>V4</td>\n",
       "      <td>501.869</td>\n",
       "      <td>0.801595</td>\n",
       "      <td>0.007875</td>\n",
       "      <td>0.381716</td>\n",
       "      <td>0.002268</td>\n",
       "      <td>1.929</td>\n",
       "      <td>0.348</td>\n",
       "      <td>0.355058</td>\n",
       "      <td>0.003147</td>\n",
       "    </tr>\n",
       "  </tbody>\n",
       "</table>\n",
       "</div>"
      ],
      "text/plain": [
       "   #V         P         P1    err_P1       rho   err_rho    rdf  rdf_x  \\\n",
       "0  V0  6310.560  10.079400  0.025833  0.924336  0.001994  4.777  0.346   \n",
       "1  V1  2480.960   3.962640  0.023366  0.722243  0.003461  3.201  0.348   \n",
       "2  V2  1279.340   2.043390  0.014310  0.575019  0.002002  2.513  0.348   \n",
       "3  V3   763.111   1.218860  0.008889  0.465239  0.002382  2.150  0.348   \n",
       "4  V4   501.869   0.801595  0.007875  0.381716  0.002268  1.929  0.348   \n",
       "\n",
       "        eta   err_eta  \n",
       "0  5.119960  0.016443  \n",
       "1  1.342720  0.012093  \n",
       "2  0.713179  0.007296  \n",
       "3  0.458845  0.006023  \n",
       "4  0.355058  0.003147  "
      ]
     },
     "execution_count": 8,
     "metadata": {},
     "output_type": "execute_result"
    }
   ],
   "source": [
    "data[0].head()"
   ]
  },
  {
   "cell_type": "code",
   "execution_count": 9,
   "metadata": {},
   "outputs": [
    {
     "data": {
      "text/plain": [
       "array([0, 1, 2])"
      ]
     },
     "execution_count": 9,
     "metadata": {},
     "output_type": "execute_result"
    }
   ],
   "source": [
    "np.arange(3)"
   ]
  },
  {
   "cell_type": "code",
   "execution_count": 10,
   "metadata": {},
   "outputs": [],
   "source": [
    "l=[]\n",
    "for i in np.arange(4):\n",
    "    df = data[i][['rho', 'eta','err_eta']]\n",
    "    l.append(df)"
   ]
  },
  {
   "cell_type": "code",
   "execution_count": 11,
   "metadata": {},
   "outputs": [],
   "source": [
    "res=[]\n",
    "for i in np.arange(4):\n",
    "    df = data[i]['rho'].apply(lambda x: rescalefunction(x*pi/6.))\n",
    "    res.append(df)"
   ]
  },
  {
   "cell_type": "code",
   "execution_count": 12,
   "metadata": {},
   "outputs": [],
   "source": [
    "w=[]\n",
    "for i in np.arange(4):\n",
    "    df = l[i][l[i]['rho']<0.6]\n",
    "    w.append(df)"
   ]
  },
  {
   "cell_type": "code",
   "execution_count": 13,
   "metadata": {},
   "outputs": [],
   "source": [
    "P=[]\n",
    "for i in np.arange(4):\n",
    "    df = (data[i]['rho'])*pi/6.0\n",
    "    P.append(df)"
   ]
  },
  {
   "cell_type": "code",
   "execution_count": 16,
   "metadata": {},
   "outputs": [],
   "source": [
    "y=[]\n",
    "for i in np.arange(4):\n",
    "    df = (data[i]['eta']/res[i])\n",
    "    y.append(df)"
   ]
  },
  {
   "cell_type": "code",
   "execution_count": 19,
   "metadata": {},
   "outputs": [],
   "source": [
    "z=[]\n",
    "for i in np.arange(4):\n",
    "    df = (data[i]['err_eta']/res[i])\n",
    "    z.append(df)"
   ]
  },
  {
   "cell_type": "code",
   "execution_count": 25,
   "metadata": {},
   "outputs": [
    {
     "name": "stdout",
     "output_type": "stream",
     "text": [
      "[[6.69474994e-03 6.38656699e-05]\n",
      " [6.38656699e-05 1.53607630e-05]]\n",
      "[[7.44920933e-05 1.71324312e-05]\n",
      " [1.71324312e-05 1.22771918e-05]]\n",
      "[[6.01861601e-07 3.84870313e-07]\n",
      " [3.84870313e-07 6.37057744e-07]]\n",
      "[[1.27194830e-05 4.61269492e-06]\n",
      " [4.61269492e-06 3.41284857e-05]]\n"
     ]
    },
    {
     "data": {
      "text/plain": [
       "[<matplotlib.lines.Line2D at 0x17f6a8277f0>]"
      ]
     },
     "execution_count": 25,
     "metadata": {},
     "output_type": "execute_result"
    },
    {
     "data": {
      "image/png": "[encoded data removed]",
      "text/plain": [
       "<Figure size 432x288 with 1 Axes>"
      ]
     },
     "metadata": {
      "needs_background": "light"
     },
     "output_type": "display_data"
    }
   ],
   "source": [
    "plt.xticks(np.arange(0.,0.45, 0.1))\n",
    "plt.xlim((0.,0.45))\n",
    "plt.ylim((0.2,1.2))\n",
    "    \n",
    "\n",
    "\n",
    "plt.errorbar(P[0],y[0],z[0],fmt='v',label=\"$\\lambda=1$\",markersize=12)\n",
    "plt.errorbar( P[1],y[1],z[1],fmt='v',label=\"$\\lambda=2$\",markersize=12)\n",
    "plt.errorbar(P[2],y[2],z[2],fmt='v',label=\"$\\lambda=3$\",markersize=12)\n",
    "plt.errorbar(P[3],y[3],z[3],fmt='v',label=\"$\\lambda=4$\",markersize=12)\n",
    "x = np.arange(0.0, 1.0, 0.001)\n",
    "\n",
    "\n",
    "m1=1.0\n",
    "m2=2.0\n",
    "m3=3.0\n",
    "m4=4.0\n",
    "\n",
    "def ETA1(x,S,a):\n",
    "       return  eta(x,S,m1**0.5,a)\n",
    "def ETA2(x,S,a):\n",
    "       return  eta(x,S,m2**0.5,a)\n",
    "def ETA3(x,S,a):\n",
    "       return  eta(x,S,m3**0.5,a)\n",
    "def ETA4(x,S,a):\n",
    "       return  eta(x,S,m4**0.5,a)\n",
    "\n",
    "popt_1, pcov_1 = curve_fit(ETA1, w[0]['rho'], w[0]['eta'],sigma=w[0]['err_eta'],bounds=[[0.90,0.1],[1.5,3.]])\n",
    "print(pcov_1)\n",
    "popt_2, pcov_2 = curve_fit(ETA2, w[1]['rho'], w[1]['eta'],sigma=w[1]['err_eta'],bounds=[[0.90,0.1],[1.5,3.]])\n",
    "print(pcov_2)\n",
    "popt_3, pcov_3 = curve_fit(ETA3, w[2]['rho'], w[2]['eta'],sigma=w[2]['err_eta'],bounds=[[0.90,0.1],[1.5,3.]])\n",
    "print(pcov_3)\n",
    "popt_4, pcov_4 = curve_fit(ETA4, w[3]['rho'], w[3]['eta'],sigma=w[3]['err_eta'],bounds=[[0.90,0.1],[1.5,3.]])\n",
    "print(pcov_4)\n",
    "\n",
    "\n",
    "\n",
    "plt.plot(x, ETA1(x*6./pi, *popt_1)/etaEns(x*6./pi), 'k-',linewidth=5,label='Fits')\n",
    "plt.plot(x, ETA2(x*6./pi, *popt_2)/etaEns(x*6./pi), 'k-',linewidth=5)\n",
    "plt.plot(x, ETA3(x*6./pi, *popt_3)/etaEns(x*6./pi), 'k-',linewidth=5)\n",
    "plt.plot(x, ETA4(x*6./pi, *popt_4)/etaEns(x*6./pi), 'k-',linewidth=5)"
   ]
  },
  {
   "cell_type": "code",
   "execution_count": null,
   "metadata": {},
   "outputs": [],
   "source": []
  },
  {
   "cell_type": "code",
   "execution_count": null,
   "metadata": {},
   "outputs": [],
   "source": []
  }
 ],
 "metadata": {
  "kernelspec": {
   "display_name": "Python 3",
   "language": "python",
   "name": "python3"
  },
  "language_info": {
   "codemirror_mode": {
    "name": "ipython",
    "version": 3
   },
   "file_extension": ".py",
   "mimetype": "text/x-python",
   "name": "python",
   "nbconvert_exporter": "python",
   "pygments_lexer": "ipython3",
   "version": "3.8.5"
  }
 },
 "nbformat": 4,
 "nbformat_minor": 4
}
